{
 "cells": [
  {
   "cell_type": "code",
   "execution_count": 2,
   "metadata": {},
   "outputs": [
    {
     "name": "stdout",
     "output_type": "stream",
     "text": [
      "Файл данных не существует!\n"
     ]
    }
   ],
   "source": [
    "# Проверка наличия файлов CSV с данными\n",
    "\n",
    "try:\n",
    "    f = open('receive_awards_by_hour.csv')\n",
    "    f.close()\n",
    "except FileNotFoundError:\n",
    "    print('Файл данных не существует!')\n",
    "    f = open('receive_awards_by_hour.csv', 'w+', encoding='utf-8')\n",
    "    f.write('Дата по часу,Бенефициарские,Другое,Игровой бот dice.id,Каналы телеграм,Награды делегатам,Награды за посты в Readdle.me,Награды через Визонатор,Прямые награды,Самоапы,Самоапы viz-social-bot,Чаты телеграм,Чаты телеграм (сплит),Эирдропы в чатах телеграм,Номер последнего блока в часе')\n",
    "    f.close()"
   ]
  },
  {
   "cell_type": "code",
   "execution_count": 62,
   "metadata": {},
   "outputs": [
    {
     "name": "stdout",
     "output_type": "stream",
     "text": [
      "['2022-10-29 14:00:00', '0.121998', '8.058979', '3.0899520000000003', '11.335970999999999', '23.212833000000003', '0.0', '0.0', '2.718976', '0.172999', '17.667958', '0.519995', '244.651421', '0.0', '235456\\n']\n",
      "2022-10-29 14:00:00 235456\n"
     ]
    }
   ],
   "source": [
    "# Находим номер последнего блока и даты в файле данных\n",
    "from datetime import datetime\n",
    "\n",
    "f = open('receive_awards_by_hour.csv', 'r', encoding='utf-8')\n",
    "line = f.readlines()[-1]\n",
    "print(line.split(','))\n",
    "try:\n",
    "    last_block_in_data = int(line.split(',')[-1])\n",
    "    last_date_in_data = datetime.strptime(line.split(',')[0], '%Y-%m-%d %H:%M:%S')\n",
    "except:\n",
    "    last_block_in_data = 0\n",
    "    last_date_in_data = 0\n",
    "\n",
    "print(last_date_in_data, last_block_in_data)"
   ]
  },
  {
   "cell_type": "code",
   "execution_count": 25,
   "metadata": {},
   "outputs": [
    {
     "name": "stdout",
     "output_type": "stream",
     "text": [
      "Starting Tvibase\n",
      "[{'trx_id': '0000000000000000000000000000000000000000', 'block': 456656, 'trx_in_block': 65535, 'op_in_trx': 0, 'virtual_op': 1, 'timestamp': '2018-10-16T01:19:21', 'op': ['witness_reward', {'witness': 'lb', 'shares': '0.095955 SHARES'}]}]\n"
     ]
    }
   ],
   "source": [
    "from tvizbase.api import Api\n",
    "\n",
    "api = Api()\n",
    "tx = api.get_ops_in_block(456656)\n",
    "print(tx)"
   ]
  },
  {
   "cell_type": "code",
   "execution_count": 2,
   "metadata": {},
   "outputs": [
    {
     "name": "stderr",
     "output_type": "stream",
     "text": [
      "d:\\Codes\\Python\\Projects\\viz-dashboard-v3\\tvizbase\\broadcast.py:164: SyntaxWarning: \"is\" with a literal. Did you mean \"==\"?\n",
      "  if lenR is 32 and lenS is 32:\n",
      "d:\\Codes\\Python\\Projects\\viz-dashboard-v3\\tvizbase\\broadcast.py:164: SyntaxWarning: \"is\" with a literal. Did you mean \"==\"?\n",
      "  if lenR is 32 and lenS is 32:\n"
     ]
    }
   ],
   "source": [
    "# Функция парсера\n",
    "import re\n",
    "import json\n",
    "from datetime import datetime\n",
    "\n",
    "def get_number_of_block(block): #Получение номера блока.\n",
    "    block=json.loads(block)\n",
    "    return block['block']\n",
    "\n",
    "def parse_tx(transaction):\n",
    "    tx_timestamp = datetime.fromisoformat(transaction['timestamp'])\n",
    "    if transaction['op'][0] == 'receive_award':\n",
    "        tx_shares = float(transaction['op'][1]['shares'][:-7])\n",
    "        transaction_memo = transaction['op'][1]['memo']\n",
    "        if re.match(r'telegram:\\d', transaction_memo) != None:\n",
    "            tx_type = 'Чаты телеграм'\n",
    "        elif re.match(r'channel:@', transaction_memo) != None:     \n",
    "            tx_type = 'Каналы телеграм'\n",
    "        elif re.match(r'split:', transaction_memo) !=None:\n",
    "            tx_type = 'Чаты телеграм (сплит)'\n",
    "        elif re.match(r'chat:', transaction_memo) !=None:\n",
    "            tx_type = 'Эирдропы в чатах телеграм'\n",
    "        elif re.match(r'viz://@', transaction_memo) !=None:\n",
    "            tx_type = 'Награды за посты в Readdle.me'\n",
    "        elif transaction_memo in ['', 'award']:\n",
    "            if transaction['op'][1]['initiator'] == transaction['op'][1]['receiver'] == 'viz-social-bot':\n",
    "                tx_type = 'Самоапы viz-social-bot'\n",
    "            elif transaction['op'][1]['initiator'] == transaction['op'][1]['receiver']:\n",
    "                tx_type = 'Самоапы'\n",
    "            else:\n",
    "                tx_type = 'Прямые награды'\n",
    "        elif re.match(r'Награда за пост: https://golos.io/@', transaction_memo) !=None:\n",
    "            tx_type = 'Награды за посты в GOLOS.IO'\n",
    "        elif transaction['op'][1]['receiver'] == 'social':\n",
    "            tx_type = 'Награды через Визонатор'\n",
    "        elif transaction['op'][1]['initiator'] == 'dice.id':\n",
    "            tx_type = 'Игровой бот dice.id'\n",
    "        else:\n",
    "            tx_type = ('Другое')\n",
    "    if transaction['op'][0] == 'benefactor_award':\n",
    "        if transaction['op'][1]['initiator'] == 'dice.id':\n",
    "            tx_type = 'Игровой бот dice.id'\n",
    "        else:\n",
    "            tx_type = 'Бенефициарские'\n",
    "    if transaction['op'][0] == 'witness_reward':\n",
    "            tx_type = 'Награды делегатам'"
   ]
  },
  {
   "cell_type": "code",
   "execution_count": 63,
   "metadata": {},
   "outputs": [
    {
     "name": "stdout",
     "output_type": "stream",
     "text": [
      "2018-09-29 10:23:27\n",
      "2018-09-29 10:23:30\n"
     ]
    }
   ],
   "source": [
    "import schedule\n",
    "\n",
    "from datetime import datetime\n",
    "import json\n",
    "from tvizbase.api import Api\n",
    "api = Api()\n",
    "\n",
    "for item in range(0, 3):\n",
    "    parse_to_memory(item)\n",
    "# Запуск демона, который будет каждый час обновлять данные\n",
    "\n",
    "# Обработка полученных данных\n",
    "\n",
    "# Добавление данных в CSV файл\n",
    "\n",
    "# Повтор"
   ]
  }
 ],
 "metadata": {
  "kernelspec": {
   "display_name": "Python 3.10.4 64-bit",
   "language": "python",
   "name": "python3"
  },
  "language_info": {
   "codemirror_mode": {
    "name": "ipython",
    "version": 3
   },
   "file_extension": ".py",
   "mimetype": "text/x-python",
   "name": "python",
   "nbconvert_exporter": "python",
   "pygments_lexer": "ipython3",
   "version": "3.10.4"
  },
  "orig_nbformat": 4,
  "vscode": {
   "interpreter": {
    "hash": "b016cad1dea38890f11b9e139f6f4af1656b1ea060d2f6cfc5778d91f3529838"
   }
  }
 },
 "nbformat": 4,
 "nbformat_minor": 2
}
